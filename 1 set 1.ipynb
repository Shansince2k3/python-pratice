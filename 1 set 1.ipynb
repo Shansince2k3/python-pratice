{
 "cells": [
  {
   "cell_type": "markdown",
   "id": "bd627d2d-9316-41ef-a75a-a67fc87d390a",
   "metadata": {},
   "source": [
    "### Q1. Write a Python program that defines a function called \"add_numbers\" that takes two arguments (i.e., numbers) and returns their sum. Within the function, add the two numbers together and return the result using the return statement. Call the function with the values 5 and 6, and print out the returned result.\\ This will result in the addition of 5 and 6, with the output of the program being the sum of these two numbers."
   ]
  },
  {
   "cell_type": "code",
   "execution_count": 3,
   "id": "cccf042f-633e-408a-8255-ff8241d55db0",
   "metadata": {},
   "outputs": [
    {
     "name": "stdout",
     "output_type": "stream",
     "text": [
      "11\n"
     ]
    }
   ],
   "source": [
    "def add_numbers(a,b):\n",
    "    return a+b\n",
    "print(add_numbers(5,6))"
   ]
  },
  {
   "cell_type": "markdown",
   "id": "7d3013d6-8aff-452e-a000-2f655b2d53b3",
   "metadata": {},
   "source": [
    "### Q2. Write a Python program that calculates the square root of a given number using a built-in function. Specifically, the program should take an integer or float input from the user, calculate its square root using the 'sqrt()' function from the 'math' module, and print out the result to the user. As an example, calculate the square root of the number 625 using this program, which should output the value of 25."
   ]
  },
  {
   "cell_type": "code",
   "execution_count": 10,
   "id": "18d8d97d-5d01-44ee-a737-b71cc173af4d",
   "metadata": {},
   "outputs": [
    {
     "name": "stdin",
     "output_type": "stream",
     "text": [
      "Enter a number to calculate its square root:  625\n"
     ]
    },
    {
     "name": "stdout",
     "output_type": "stream",
     "text": [
      "Square root: 25.0\n"
     ]
    }
   ],
   "source": [
    "import math\n",
    "def calculate_square_root(number):\n",
    "    return math.sqrt(number)\n",
    "\n",
    "# Input from the user\n",
    "user_input = input(\"Enter a number to calculate its square root: \")\n",
    "\n",
    "# Convert the user input to a float (to handle decimal numbers) or int (for whole numbers)\n",
    "try:\n",
    "    number = float(user_input)\n",
    "except ValueError:\n",
    "    print(\"Invalid input. Please enter a valid number.\")\n",
    "else:\n",
    "    # Calculate the square root\n",
    "    square_root = calculate_square_root(number)\n",
    "    print(\"Square root:\", square_root)\n"
   ]
  },
  {
   "cell_type": "markdown",
   "id": "af98886d-edd1-47c3-8d35-f97d178e9be3",
   "metadata": {},
   "source": [
    "## Q3.Write a program that prints all prime numbers between 0 to 50."
   ]
  },
  {
   "cell_type": "code",
   "execution_count": 11,
   "id": "6e36ccec-723f-49f8-914b-9f59372c4c8f",
   "metadata": {},
   "outputs": [
    {
     "name": "stdout",
     "output_type": "stream",
     "text": [
      "Prime numbers between 0 and 50:\n",
      "2\n",
      "3\n",
      "5\n",
      "7\n",
      "11\n",
      "13\n",
      "17\n",
      "19\n",
      "23\n",
      "29\n",
      "31\n",
      "37\n",
      "41\n",
      "43\n",
      "47\n"
     ]
    }
   ],
   "source": [
    "def is_prime(num):\n",
    "    if num < 2:\n",
    "        return False\n",
    "    #we calculate the square root\n",
    "    for i in range(2, int(num ** 0.5) + 1):\n",
    "        if num % i == 0:\n",
    "            return False\n",
    "    return True\n",
    "\n",
    "def print_prime_numbers(limit):\n",
    "    for number in range(2, limit + 1):\n",
    "        if is_prime(number):\n",
    "            print(number)\n",
    "\n",
    "print(\"Prime numbers between 0 and 50:\")\n",
    "print_prime_numbers(50)\n"
   ]
  },
  {
   "cell_type": "markdown",
   "id": "7b7a33ed-e132-4b35-9204-d1af270b8592",
   "metadata": {},
   "source": [
    "### Q4.How can we swap the values of three variables (let's say a, b, and c) without using a fourth variable? For example, if we have a=5, b=8, and c=9, how can we obtain a=9, b=5, and c=8? The challenge is to perform this operation without using an additional variable to store any of the values during the swapping process."
   ]
  },
  {
   "cell_type": "code",
   "execution_count": 25,
   "id": "a97c8df4-9a3e-406c-b2f8-46bd69a7fd1c",
   "metadata": {},
   "outputs": [
    {
     "name": "stdout",
     "output_type": "stream",
     "text": [
      "After swapping: a = 9 b = 5 c = 8\n"
     ]
    }
   ],
   "source": [
    "#Before swapping: a = 5 b = 8 c = 9\n",
    "\n",
    "def swapvar(a,b,c):\n",
    "    a = a + b + c\n",
    "    b = a - (b + c)\n",
    "    c = a - (b + c)\n",
    "    a = a - (b + c)\n",
    "    return a, b, c\n",
    "\n",
    "a, b, c = swapvar(5, 8, 9)\n",
    "\n",
    "print(\"After swapping: a =\", a, \"b =\", b, \"c =\", c)"
   ]
  },
  {
   "cell_type": "markdown",
   "id": "74b64c45-b2a7-4b54-91b5-7758487197ab",
   "metadata": {},
   "source": [
    "### Q5. Can you write a program that determines the nature of a given number (in this case, 87) as being positive, negative, or zero? The program should be designed to take the number as input and perform the necessary calculations to determine if the number is positive (i.e., greater than zero), negative (i.e., less than zero), or zero (i.e., equal to zero). The output of the program should indicate which of these three categories the given number falls into."
   ]
  },
  {
   "cell_type": "code",
   "execution_count": 31,
   "id": "c0e14763-11aa-498f-9962-026be6290d7d",
   "metadata": {},
   "outputs": [
    {
     "name": "stdin",
     "output_type": "stream",
     "text": [
      "Enter a number:  5\n"
     ]
    },
    {
     "name": "stdout",
     "output_type": "stream",
     "text": [
      "The number is positive\n"
     ]
    }
   ],
   "source": [
    "def checknum(num):\n",
    "    if num > 0:\n",
    "        return \"positive\"\n",
    "    elif num < 0:\n",
    "        return \"negative\"\n",
    "    else:\n",
    "        return \"zero\"\n",
    "\n",
    "user_input = input(\"Enter a number: \")\n",
    "try:\n",
    "    number = float(user_input)\n",
    "except ValueError:\n",
    "    print(\"Invalid input. Please enter a valid number.\")\n",
    "else:\n",
    "    result = checknum(number)\n",
    "    print(\"The number is\", result)"
   ]
  },
  {
   "cell_type": "markdown",
   "id": "2cb37c33-7d3f-433d-be76-bf2233c8e0e5",
   "metadata": {},
   "source": [
    "### Q6. How can you create a program that determines whether a given number (in this case, 98) is even or odd? The program should be designed to take the number as input and perform the necessary calculations to determine whether it is divisible by two. If the number is divisible by two without leaving a remainder, it is an even number, and if there is a remainder, it is an odd number. The output of the program should indicate whether the given number is even or odd.  "
   ]
  },
  {
   "cell_type": "code",
   "execution_count": 34,
   "id": "420afe8c-0d70-48b6-9073-707f6a7a1487",
   "metadata": {},
   "outputs": [
    {
     "name": "stdin",
     "output_type": "stream",
     "text": [
      "Enter a number:  4\n"
     ]
    },
    {
     "name": "stdout",
     "output_type": "stream",
     "text": [
      "The number is even\n"
     ]
    }
   ],
   "source": [
    "def is_even_or_odd(number):\n",
    "    if number % 2 == 0:\n",
    "        return \"even\"\n",
    "    else:\n",
    "        return \"odd\"\n",
    "\n",
    "# Input from the user\n",
    "user_input =  float(input(\"Enter a number: \"))\n",
    "print(\"The number is\", is_even_or_odd(user_input))\n"
   ]
  },
  {
   "cell_type": "markdown",
   "id": "581902c2-a7bd-4419-9501-2ebce693eb32",
   "metadata": {},
   "source": [
    "###  Q7.Write a program for sum of digits.the digits are 76543 and the output should be 25."
   ]
  },
  {
   "cell_type": "code",
   "execution_count": 42,
   "id": "193fc476-bdae-42d6-978f-444d337e114b",
   "metadata": {},
   "outputs": [
    {
     "name": "stdin",
     "output_type": "stream",
     "text": [
      "enter the number  76543\n"
     ]
    },
    {
     "name": "stdout",
     "output_type": "stream",
     "text": [
      "the sum of digit is 25\n"
     ]
    }
   ],
   "source": [
    "def sum_of_digit(num):\n",
    "    count = 0 \n",
    "    for i in range(0,len(num)):\n",
    "        count+=int(num[i])\n",
    "    return count\n",
    "user_input = input(\"enter the number \")\n",
    "print(\"the sum of digit is\",sum_of_digit(user_input))"
   ]
  },
  {
   "cell_type": "markdown",
   "id": "7b5bac49-a988-4efd-a0fa-2451f3abab5f",
   "metadata": {},
   "source": [
    "### Q8.Write a program for reversing the given number 5436 and the output should be 6345."
   ]
  },
  {
   "cell_type": "code",
   "execution_count": 44,
   "id": "fc494fb8-a61a-4a0e-bed9-42dc73f31547",
   "metadata": {},
   "outputs": [
    {
     "name": "stdin",
     "output_type": "stream",
     "text": [
      "entere the number 5436\n"
     ]
    },
    {
     "name": "stdout",
     "output_type": "stream",
     "text": [
      "Reversed number of 5436 is 6345\n"
     ]
    }
   ],
   "source": [
    "def reverse_number(num):\n",
    "    reversed_num = 0\n",
    "    while num > 0:\n",
    "        dig = num % 10\n",
    "        reversed_num = reversed_num * 10 + dig\n",
    "        num //= 10\n",
    "    return reversed_num\n",
    "number = int(input(\"entere the number\"))\n",
    "result = reverse_number(number)\n",
    "print(\"Reversed number of\", number, \"is\", result)"
   ]
  },
  {
   "cell_type": "markdown",
   "id": "415016f2-92a8-432e-9b97-d5dbf4426091",
   "metadata": {},
   "source": [
    "### Q9.Write a program to check if a given number 371 is an Armstrong number?"
   ]
  },
  {
   "cell_type": "code",
   "execution_count": 45,
   "id": "5dda97de-aeba-436e-b265-09cf09ab6d2c",
   "metadata": {},
   "outputs": [
    {
     "name": "stdout",
     "output_type": "stream",
     "text": [
      "371 is an Armstrong number.\n"
     ]
    }
   ],
   "source": [
    "def is_armstrong_number(number):\n",
    "    num_str = str(number)\n",
    "    num_digits = len(num_str)\n",
    "    sum_of_digits = sum(int(digit) ** num_digits for digit in num_str)\n",
    "    return number == sum_of_digits\n",
    "\n",
    "number = 371\n",
    "\n",
    "if is_armstrong_number(number):\n",
    "    print(number, \"is an Armstrong number.\")\n",
    "else:\n",
    "    print(number, \"is not an Armstrong number.\")\n"
   ]
  },
  {
   "cell_type": "markdown",
   "id": "e4ae0706-3cc1-4c3f-b34a-659ca2173601",
   "metadata": {},
   "source": [
    "### Q10.Write a program the given year is 1996, a leap year."
   ]
  },
  {
   "cell_type": "code",
   "execution_count": 46,
   "id": "1b7efef5-96ff-4c56-ba6d-c4fbc393c6df",
   "metadata": {},
   "outputs": [
    {
     "name": "stdout",
     "output_type": "stream",
     "text": [
      "1996 is a leap year.\n"
     ]
    }
   ],
   "source": [
    "def is_leap_year(year):\n",
    "    if (year % 4 == 0 and year % 100 != 0) or year % 400 == 0:\n",
    "        return True\n",
    "    else:\n",
    "        return False\n",
    "\n",
    "\n",
    "year = 1996\n",
    "\n",
    "if is_leap_year(year):\n",
    "    print(year, \"is a leap year.\")\n",
    "else:\n",
    "    print(year, \"is not a leap year.\")\n"
   ]
  },
  {
   "cell_type": "code",
   "execution_count": null,
   "id": "c7486afa-9011-4878-b8dd-2da3afc4e3aa",
   "metadata": {},
   "outputs": [],
   "source": []
  }
 ],
 "metadata": {
  "kernelspec": {
   "display_name": "Python 3 (ipykernel)",
   "language": "python",
   "name": "python3"
  },
  "language_info": {
   "codemirror_mode": {
    "name": "ipython",
    "version": 3
   },
   "file_extension": ".py",
   "mimetype": "text/x-python",
   "name": "python",
   "nbconvert_exporter": "python",
   "pygments_lexer": "ipython3",
   "version": "3.10.6"
  }
 },
 "nbformat": 4,
 "nbformat_minor": 5
}
