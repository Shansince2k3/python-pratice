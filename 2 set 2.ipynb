{
 "cells": [
  {
   "cell_type": "markdown",
   "id": "2d8b2ad3-38a0-4372-97ba-1845866a9f8f",
   "metadata": {},
   "source": [
    "### Q1. Create a list in python using the followings: 2,3,4,5,6,7 with variable ‘a’ Add ‘mango to the above list Also add banana, grapes & orange in the list insert apple in the 5th position of a variable ‘a’ Remove last item from the list"
   ]
  },
  {
   "cell_type": "code",
   "execution_count": 1,
   "id": "56b767d4-e4e9-4078-a6a1-1f10dbba3519",
   "metadata": {},
   "outputs": [
    {
     "name": "stdout",
     "output_type": "stream",
     "text": [
      "[2, 3, 4, 5, 'apple', 6, 7, 'mango', 'banana', 'grapes']\n"
     ]
    }
   ],
   "source": [
    "# Create a list with the given elements and assign it to the variable 'a'\n",
    "a = [2, 3, 4, 5, 6, 7]\n",
    "# Add 'mango' to the list 'a'\n",
    "a.append('mango')\n",
    "# Add 'banana', 'grapes', and 'orange' to the list 'a'\n",
    "a.extend(['banana', 'grapes', 'orange'])\n",
    "# Insert 'apple' at the 5th position (index 4) in the list 'a'\n",
    "a.insert(4, 'apple')\n",
    "# Remove the last item from the list 'a'\n",
    "a.pop()\n",
    "# Print the updated list 'a'\n",
    "print(a)\n"
   ]
  },
  {
   "cell_type": "markdown",
   "id": "13460624-db7f-4e7a-b542-fcca43dd394f",
   "metadata": {},
   "source": [
    "### Q2.\n",
    "### L = [1,2,3,4,5,6,7] Using the above list slice from 1:4"
   ]
  },
  {
   "cell_type": "code",
   "execution_count": 3,
   "id": "10d3c9c7-786a-4e2c-8981-9ada59dde42b",
   "metadata": {},
   "outputs": [
    {
     "data": {
      "text/plain": [
       "[2, 3, 4]"
      ]
     },
     "execution_count": 3,
     "metadata": {},
     "output_type": "execute_result"
    }
   ],
   "source": [
    "L = [1,2,3,4,5,6,7]\n",
    "L[1:4]"
   ]
  },
  {
   "cell_type": "markdown",
   "id": "18fa2cdf-0632-4abe-83df-36bbfa3ddd15",
   "metadata": {},
   "source": [
    "### Q3. Reverse the order of given string L = [4,5,6,8,3] Without using reverse() function."
   ]
  },
  {
   "cell_type": "code",
   "execution_count": 4,
   "id": "2cdd7b14-7c3a-4a9a-a07c-1df7c4170ded",
   "metadata": {},
   "outputs": [
    {
     "data": {
      "text/plain": [
       "[3, 8, 6, 5, 4]"
      ]
     },
     "execution_count": 4,
     "metadata": {},
     "output_type": "execute_result"
    }
   ],
   "source": [
    "L = [4,5,6,8,3] \n",
    "L[::-1]"
   ]
  },
  {
   "cell_type": "markdown",
   "id": "24ebb28a-7d8d-4102-ba66-077eda67b0cd",
   "metadata": {},
   "source": [
    "### Q4. Use list comprehension to square the given list L=[2,4,7,3,6,8]"
   ]
  },
  {
   "cell_type": "code",
   "execution_count": 5,
   "id": "044c18f1-e3ae-47dd-98df-5c3e836540e4",
   "metadata": {},
   "outputs": [
    {
     "name": "stdout",
     "output_type": "stream",
     "text": [
      "[4, 16, 49, 9, 36, 64]\n"
     ]
    }
   ],
   "source": [
    "L = [2, 4, 7, 3, 6, 8]\n",
    "# Use list comprehension to square each element in the list\n",
    "squared_list = [x**2 for x in L]\n",
    "# Print the squared list\n",
    "print(squared_list)"
   ]
  },
  {
   "cell_type": "markdown",
   "id": "1fad750f-b299-43d3-bede-175459e45358",
   "metadata": {},
   "source": [
    "### Q5. Create a function that takes in a tuple of integers and returns the sum of the integers. Test the function with a tuple of your choice."
   ]
  },
  {
   "cell_type": "code",
   "execution_count": 6,
   "id": "9fde4cdf-90f0-42a8-83ed-bcecf379dad6",
   "metadata": {},
   "outputs": [
    {
     "name": "stdout",
     "output_type": "stream",
     "text": [
      "Sum of the integers in the tuple: 15\n"
     ]
    }
   ],
   "source": [
    "def sum_of_integers(t):\n",
    "    return sum(t)\n",
    "\n",
    "# Test the function with a tuple of my choice\n",
    "my_tuple = (1, 2, 3, 4, 5)\n",
    "result = sum_of_integers(my_tuple)\n",
    "print(\"Sum of the integers in the tuple:\", result)\n"
   ]
  },
  {
   "cell_type": "markdown",
   "id": "d70f3823-ee93-4e57-b092-a00208d3d689",
   "metadata": {},
   "source": [
    "### Q6. Create two sets of your favourite fruits, and use the union() method to combine them into a single set. Print the resulting set to the console."
   ]
  },
  {
   "cell_type": "code",
   "execution_count": 7,
   "id": "e5e5be63-9fb1-4bf4-8d3c-85637839ba4c",
   "metadata": {},
   "outputs": [
    {
     "name": "stdout",
     "output_type": "stream",
     "text": [
      "{'banana', 'orange', 'grape', 'apple', 'kiwi', 'pear'}\n"
     ]
    }
   ],
   "source": [
    "fruits1 = {\"apple\", \"banana\", \"pear\"}\n",
    "fruits2 = {\"orange\", \"grape\", \"kiwi\"}\n",
    "combined_fruits = fruits1.union(fruits2) #union\n",
    "print(combined_fruits)"
   ]
  },
  {
   "cell_type": "markdown",
   "id": "994cbf37-c441-4102-b1f2-18fe8c3d0477",
   "metadata": {},
   "source": [
    "### Q7. Create a set of random words, and use the add() method to add a new word to the set. Print the resulting set to the console."
   ]
  },
  {
   "cell_type": "code",
   "execution_count": 8,
   "id": "93e2a8e1-e369-4525-bb99-15e3daf8caa4",
   "metadata": {},
   "outputs": [
    {
     "name": "stdout",
     "output_type": "stream",
     "text": [
      "{'world', 'hello', 'programming', 'python'}\n"
     ]
    }
   ],
   "source": [
    "words = {\"hello\", \"world\", \"python\"}\n",
    "words.add(\"programming\") #add the words in set\n",
    "print(words)"
   ]
  },
  {
   "cell_type": "markdown",
   "id": "4e793aae-0a6e-49f4-8972-d9915c50333f",
   "metadata": {},
   "source": [
    "### Q8. Create a set of your favourite animals, and use the remove() method to remove one animal from the set. Print the resulting set to the console."
   ]
  },
  {
   "cell_type": "code",
   "execution_count": 10,
   "id": "006d8d4a-040e-437d-a346-92e818e748e0",
   "metadata": {},
   "outputs": [
    {
     "name": "stdout",
     "output_type": "stream",
     "text": [
      "{'hamster', 'parrot', 'dog'}\n"
     ]
    }
   ],
   "source": [
    "animals = {\"dog\", \"cat\", \"hamster\", \"parrot\"}\n",
    "animals.remove(\"cat\")\n",
    "print(animals)"
   ]
  },
  {
   "cell_type": "markdown",
   "id": "5e2c3576-db06-4280-869a-9bd7ce3e846a",
   "metadata": {},
   "source": [
    "### Q9. favorite_books = {\"1984\", \"To Kill a Mockingbird\", \"Pride and Prejudice\"}\n",
    "### favorite_movies = [\"The Shawshank Redemption\", \"The Godfather\", \"The Dark Knight\"]\n",
    "### Use the zip() function to combine the book set and movie list into a list of tuples representing book/ movie pairs. Print the resulting list."
   ]
  },
  {
   "cell_type": "code",
   "execution_count": 13,
   "id": "ef1ed9a4-7e30-4f84-9216-d3d43d486fe2",
   "metadata": {},
   "outputs": [
    {
     "name": "stdout",
     "output_type": "stream",
     "text": [
      "[('1984', 'The Shawshank Redemption'), ('To Kill a Mockingbird', 'The Godfather'), ('Pride and Prejudice', 'The Dark Knight')]\n"
     ]
    }
   ],
   "source": [
    "favorite_books = {\"1984\", \"To Kill a Mockingbird\", \"Pride and Prejudice\"}\n",
    "favorite_movies = [\"The Shawshank Redemption\", \"The Godfather\", \"The Dark Knight\"]\n",
    "# Use zip() to combine the book set and movie list into a list of tuples\n",
    "book_movie_pairs = list(zip(favorite_books, favorite_movies))\n",
    "# Print the resulting list of tuples\n",
    "print(book_movie_pairs)"
   ]
  },
  {
   "cell_type": "markdown",
   "id": "85bcc0af-1da7-435d-94ca-2ea59bf91c29",
   "metadata": {},
   "source": [
    "### Q10. Write a Python program to find the difference between consecutive numbers in a list."
   ]
  },
  {
   "cell_type": "code",
   "execution_count": 14,
   "id": "3996ee3b-8e54-4ade-9cff-f38bef7af645",
   "metadata": {},
   "outputs": [
    {
     "name": "stdout",
     "output_type": "stream",
     "text": [
      "Differences between consecutive numbers: [5, 5, 5, 5]\n"
     ]
    }
   ],
   "source": [
    "def find_consecutive_differences(numbers):\n",
    "    differences = []\n",
    "    for i in range(1, len(numbers)):\n",
    "        difference = numbers[i] - numbers[i - 1]\n",
    "        differences.append(difference)\n",
    "    return differences\n",
    "\n",
    "# Example list of numbers\n",
    "numbers_list = [10, 15, 20, 25, 30]\n",
    "\n",
    "# Find the differences between consecutive numbers\n",
    "result = find_consecutive_differences(numbers_list)\n",
    "\n",
    "# Print the resulting list of differences\n",
    "print(\"Differences between consecutive numbers:\", result)\n"
   ]
  },
  {
   "cell_type": "code",
   "execution_count": null,
   "id": "915c0caa-ddab-4479-9935-3a266ef4d5e1",
   "metadata": {},
   "outputs": [],
   "source": []
  }
 ],
 "metadata": {
  "kernelspec": {
   "display_name": "Python 3 (ipykernel)",
   "language": "python",
   "name": "python3"
  },
  "language_info": {
   "codemirror_mode": {
    "name": "ipython",
    "version": 3
   },
   "file_extension": ".py",
   "mimetype": "text/x-python",
   "name": "python",
   "nbconvert_exporter": "python",
   "pygments_lexer": "ipython3",
   "version": "3.10.6"
  }
 },
 "nbformat": 4,
 "nbformat_minor": 5
}
