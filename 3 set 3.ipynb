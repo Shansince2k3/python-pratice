{
 "cells": [
  {
   "cell_type": "markdown",
   "id": "202e6969-5ca8-43ed-9d09-d5773a8e55d5",
   "metadata": {},
   "source": [
    "### Q1. Create a dictionary called fruits with the following key-value pairs:\n",
    "### \"apple\": 0.75 \"banana\": 1.25 \"orange\": 0.90 Then, print out the price of a banana."
   ]
  },
  {
   "cell_type": "code",
   "execution_count": 6,
   "id": "42020f04-d120-492a-ae4c-e7e3e651ccf6",
   "metadata": {},
   "outputs": [
    {
     "name": "stdout",
     "output_type": "stream",
     "text": [
      "Price of $1.25 banana\n"
     ]
    }
   ],
   "source": [
    "fruit_dic = { \"apple\": 0.75,\n",
    "       \"banana\": 1.25,\n",
    "       \"orange\": 0.90\n",
    "}\n",
    "print(f\"Price of ${fruit_dic['banana']} banana\")"
   ]
  },
  {
   "cell_type": "markdown",
   "id": "fd93599d-540d-4113-91a1-9bc8a59ceb24",
   "metadata": {},
   "source": [
    "### Q2. Create an empty dictionary called ages. Add the following key-value pairs to the dictionary:\n",
    "### \"Alice\": 30 \"Bob\": 25 \"Charlie\": 35 Then, print out the age of Charlie."
   ]
  },
  {
   "cell_type": "code",
   "execution_count": 7,
   "id": "9440dd23-d4bb-437c-959e-1f9fefb09ed0",
   "metadata": {},
   "outputs": [
    {
     "name": "stdin",
     "output_type": "stream",
     "text": [
      "Enter the number of key-value pairs you want to add:  3\n",
      "Enter key:  Alice\n",
      "Enter value:  30\n",
      "Enter key:  Bob\n",
      "Enter value:  25\n",
      "Enter key:  Charlie\n",
      "Enter value:  35\n"
     ]
    },
    {
     "name": "stdout",
     "output_type": "stream",
     "text": [
      "Updated dictionary: {'Alice': '30', 'Bob': '25', 'Charlie': '35'}\n"
     ]
    }
   ],
   "source": [
    "ages = {}\n",
    "num_pairs = int(input(\"Enter the number of key-value pairs you want to add: \"))\n",
    "\n",
    "for i in range(num_pairs):\n",
    "    key = input(\"Enter key: \")\n",
    "    value = input(\"Enter value: \")\n",
    "    ages[key] = value\n",
    "\n",
    "print(\"Updated dictionary:\", ages)"
   ]
  },
  {
   "cell_type": "markdown",
   "id": "88e51e06-8ea2-4580-9d01-0d2ca1bfd8aa",
   "metadata": {},
   "source": [
    "### Q3. Write a function called word_count(text) that takes a string as input and returns a dictionary where each key is a word in the text and its value is the number of times that word appears in the text. For example, word_count(\"hello world hello\") should return {\"hello\": 2, \"world\": 1}."
   ]
  },
  {
   "cell_type": "code",
   "execution_count": 12,
   "id": "779eaec4-1dde-4c29-8051-79f38e775922",
   "metadata": {},
   "outputs": [
    {
     "name": "stdout",
     "output_type": "stream",
     "text": [
      "{'hello': 3, 'world': 2}\n"
     ]
    }
   ],
   "source": [
    "def word_count(text):\n",
    "    word_counts = {}\n",
    "    words = text.split()\n",
    "    for word in words:\n",
    "        # Remove any leading or trailing punctuation from the word\n",
    "        word = word.strip(\".,?!;:'\\\"()[]{}\")\n",
    "        word = word.lower()\n",
    "        \n",
    "        # Update the word count in the dictionary\n",
    "        word_counts[word] = word_counts.get(word,0) + 1\n",
    "        # If the key is present in the dictionary, it returns the corresponding value. \n",
    "        #If the key is not found, it returns the default value provided as the second argument (in this case, 0).\n",
    "    return word_counts\n",
    "\n",
    "\n",
    "text = \"hello world hello hello world\"\n",
    "result = word_count(text)\n",
    "print(result)  # Output: {'hello': 2, 'world': 1}\n"
   ]
  },
  {
   "cell_type": "markdown",
   "id": "bc32d0cf-2446-458d-85bc-ffa89456bbe7",
   "metadata": {},
   "source": [
    "### Q4. Create a dictionary called phone_book with the following key-value pairs:\n",
    "## \"Alice\": \"555-1234\" \"Bob\": \"555-5678\" \"Charlie\": \"555-9012\"\n",
    "### Then, prompt the user to enter a name and print out the corresponding phone number. If the name is not in the phone book, print out a message saying that the name was not found."
   ]
  },
  {
   "cell_type": "code",
   "execution_count": 18,
   "id": "c063e5d5-610d-42a0-aaee-6b95a3bf7592",
   "metadata": {},
   "outputs": [
    {
     "name": "stdout",
     "output_type": "stream",
     "text": [
      "555-1234\n"
     ]
    }
   ],
   "source": [
    "def phone_book(name):\n",
    "    phone_dic = { \"Alice\": \"555-1234\", \"Bob\": \"555-5678\" , \"Charlie\": \"555-9012\" }\n",
    "    name = name.strip(\".,?!;:'\\\"()[]{}\")\n",
    "    phone_no = phone_dic.get(name,\"NOT FOUND\")\n",
    "    \n",
    "    return phone_no\n",
    "print(phone_book(\"Alice\"))\n"
   ]
  },
  {
   "cell_type": "markdown",
   "id": "a31938c4-2371-4333-978a-9f902c3c761e",
   "metadata": {},
   "source": [
    "### Q5. Write a program that prompts the user to enter a number between 1 and 10. If the number is less than 5, print out \"Too low!\", otherwise print out \"Too high!\"."
   ]
  },
  {
   "cell_type": "code",
   "execution_count": 19,
   "id": "5dec5c4d-d8e4-4840-9c1a-376acb7b6ea6",
   "metadata": {},
   "outputs": [
    {
     "name": "stdin",
     "output_type": "stream",
     "text": [
      "Enter a number between 1 and 10:  7\n"
     ]
    },
    {
     "name": "stdout",
     "output_type": "stream",
     "text": [
      "Too high!\n"
     ]
    }
   ],
   "source": [
    "def main():\n",
    "    try:\n",
    "        # Prompt the user to enter a number\n",
    "        user_input = int(input(\"Enter a number between 1 and 10: \"))\n",
    "\n",
    "        # Check if the number is less than 5\n",
    "        if user_input < 5:\n",
    "            print(\"Too low!\")\n",
    "        else:\n",
    "            print(\"Too high!\")\n",
    "\n",
    "    except ValueError:\n",
    "        print(\"Invalid input. Please enter a valid number.\")\n",
    "\n",
    "if __name__ == \"__main__\":\n",
    "    main()\n"
   ]
  },
  {
   "cell_type": "markdown",
   "id": "e587574b-03f3-4b14-bb3b-6feb81c1d000",
   "metadata": {},
   "source": [
    "### Q6. Write a program that prompts the user to enter a password. If the password is \"password123\", print out \"Access granted\", otherwise print out \"Access denied\"."
   ]
  },
  {
   "cell_type": "code",
   "execution_count": 4,
   "id": "7a7d3891-5272-4225-b29c-41dd8f146d16",
   "metadata": {},
   "outputs": [
    {
     "name": "stdin",
     "output_type": "stream",
     "text": [
      "Enter the password:  password123\n"
     ]
    },
    {
     "name": "stdout",
     "output_type": "stream",
     "text": [
      "Access granted\n"
     ]
    }
   ],
   "source": [
    "def main():\n",
    " \n",
    "    access = input(\"Enter the password: \")\n",
    "    password = \"password123\"\n",
    "    if password == access:\n",
    "        print(\"Access granted\")\n",
    "    else:\n",
    "        print(\"Access denied\")\n",
    "\n",
    "if __name__ == \"__main__\":\n",
    "    main()\n"
   ]
  },
  {
   "cell_type": "markdown",
   "id": "e5355827-4c2f-4eab-8109-aa54124ed3bb",
   "metadata": {},
   "source": [
    "### Q7. Write a program that prompts the user to enter a positive integer. Then, use a loop to print out all the odd numbers from 1 to that integer."
   ]
  },
  {
   "cell_type": "code",
   "execution_count": 5,
   "id": "d9eab06f-2dea-4d1e-9f90-fa8283807bd4",
   "metadata": {},
   "outputs": [
    {
     "name": "stdin",
     "output_type": "stream",
     "text": [
      "Enter a positive integer:  7\n"
     ]
    },
    {
     "name": "stdout",
     "output_type": "stream",
     "text": [
      "Odd numbers from 1 to 7 are:\n",
      "1 3 5 7 "
     ]
    }
   ],
   "source": [
    "def main():\n",
    "    try:\n",
    "        num = int(input(\"Enter a positive integer: \"))\n",
    "        if num <= 0:\n",
    "            print(\"Please enter a positive integer.\")\n",
    "            return\n",
    "\n",
    "        \n",
    "        print(\"Odd numbers from 1 to\", num, \"are:\")\n",
    "        for i in range(1, num + 1):\n",
    "            if i % 2 != 0:\n",
    "                print(i, end=' ')\n",
    "\n",
    "    except ValueError:\n",
    "        print(\"Invalid input. Please enter a valid positive integer.\")\n",
    "\n",
    "if __name__ == \"__main__\":\n",
    "    main()\n"
   ]
  },
  {
   "cell_type": "markdown",
   "id": "f3fec817-969c-4b43-b0e0-10820358adc5",
   "metadata": {},
   "source": [
    "### Q8. Write a program that generates a random number between 1 and 100 and then prompts the user to guess the number. If the user's guess is too low, print out \"Too low!\", if the guess is too high, print out \"Too high!\", and if the guess is correct, print out \"You win!\"."
   ]
  },
  {
   "cell_type": "code",
   "execution_count": 17,
   "id": "5d98806b-02e1-4f03-803f-d29883468d9a",
   "metadata": {},
   "outputs": [
    {
     "name": "stdin",
     "output_type": "stream",
     "text": [
      "enter the number between 1 to 100  44\n"
     ]
    },
    {
     "name": "stdout",
     "output_type": "stream",
     "text": [
      "your guess no is to low\n",
      "Thankyou for playing this game i hope you enjoy it \n"
     ]
    }
   ],
   "source": [
    "import random\n",
    "def main():\n",
    "    try:\n",
    "        user_no = int(input(\"enter the number between 1 to 100 \"))\n",
    "        random_no = random.randint(1,100)\n",
    "        if user_no == random_no:\n",
    "            print(\"your win\")\n",
    "        elif user_no > random_no:\n",
    "            print(\"your guess no is to high\")\n",
    "        else:\n",
    "            print(\"your guess no is to low\")\n",
    "    except ValueError:\n",
    "        print(\"Invalid input. Please enter a valid positive integer.\")\n",
    "            \n",
    "    finally:\n",
    "        print(\"Thankyou for playing this game i hope you enjoy it \")\n",
    "    \n",
    "if __name__ == \"__main__\":\n",
    "    main()"
   ]
  },
  {
   "cell_type": "code",
   "execution_count": 21,
   "id": "6685fa58-2bde-448f-af49-ab2c480ecf5a",
   "metadata": {},
   "outputs": [
    {
     "name": "stdin",
     "output_type": "stream",
     "text": [
      "enter the number between 1 to 100  3\n"
     ]
    },
    {
     "name": "stdout",
     "output_type": "stream",
     "text": [
      "your guess no is to high\n",
      " Attempt 1\n"
     ]
    },
    {
     "name": "stdin",
     "output_type": "stream",
     "text": [
      "enter the number between 1 to 100  2\n"
     ]
    },
    {
     "name": "stdout",
     "output_type": "stream",
     "text": [
      "your guess no is to low\n",
      " Attempt 2\n"
     ]
    },
    {
     "name": "stdin",
     "output_type": "stream",
     "text": [
      "enter the number between 1 to 100  4\n"
     ]
    },
    {
     "name": "stdout",
     "output_type": "stream",
     "text": [
      "your guess no is to high\n",
      " Attempt 3\n"
     ]
    }
   ],
   "source": [
    "import random\n",
    "def main():\n",
    "    attempts = 3\n",
    "\n",
    "    for attempt in range(1, attempts + 1):\n",
    "        try:\n",
    "\n",
    "            user_no = int(input(\"enter the number between 1 to 100 \"))\n",
    "            random_no = random.randint(1,5)\n",
    "            if user_no == random_no:\n",
    "                print(\"your win\")\n",
    "                break\n",
    "            elif user_no > random_no:\n",
    "                print(\"your guess no is to high\")\n",
    "            else:\n",
    "                print(\"your guess no is to low\")\n",
    "        except ValueError:\n",
    "            print(\"Invalid input. Please enter a valid positive integer.\")\n",
    "            \n",
    "        finally:\n",
    "            print(f\" Attempt {attempt}\")\n",
    "    \n",
    "if __name__ == \"__main__\":\n",
    "    main()"
   ]
  },
  {
   "cell_type": "markdown",
   "id": "d883db86-d46b-4218-9e82-06f6edd13f83",
   "metadata": {},
   "source": [
    "### Q10. Write a program that prompts the user to enter their age and then prints out whether they are a child (age 0-12), a teenager (age 13-19), an adult (age 20-59), or a senior (age 60+)"
   ]
  },
  {
   "cell_type": "code",
   "execution_count": 22,
   "id": "f64a9572-4810-488c-aa94-06eed5c0e51b",
   "metadata": {},
   "outputs": [
    {
     "name": "stdin",
     "output_type": "stream",
     "text": [
      "Enter your age:  5\n"
     ]
    },
    {
     "name": "stdout",
     "output_type": "stream",
     "text": [
      "You are a child.\n"
     ]
    }
   ],
   "source": [
    "def main():\n",
    "    try:\n",
    "        age = int(input(\"Enter your age: \"))\n",
    "        if age <= 12:\n",
    "            print(\"You are a child.\")\n",
    "        elif 13 <= age <= 19:\n",
    "            print(\"You are a teenager.\")\n",
    "        elif 20 <= age <= 59:\n",
    "            print(\"You are an adult.\")\n",
    "        else:\n",
    "            print(\"You are a senior.\")\n",
    "\n",
    "    except ValueError:\n",
    "        print(\"Invalid input. Please enter a valid age (a positive integer).\")\n",
    "\n",
    "if __name__ == \"__main__\":\n",
    "    main()\n"
   ]
  },
  {
   "cell_type": "code",
   "execution_count": null,
   "id": "fd8b5a19-14e6-4d76-8fc6-eb3fc0160ff4",
   "metadata": {},
   "outputs": [],
   "source": []
  }
 ],
 "metadata": {
  "kernelspec": {
   "display_name": "Python 3 (ipykernel)",
   "language": "python",
   "name": "python3"
  },
  "language_info": {
   "codemirror_mode": {
    "name": "ipython",
    "version": 3
   },
   "file_extension": ".py",
   "mimetype": "text/x-python",
   "name": "python",
   "nbconvert_exporter": "python",
   "pygments_lexer": "ipython3",
   "version": "3.10.6"
  }
 },
 "nbformat": 4,
 "nbformat_minor": 5
}
