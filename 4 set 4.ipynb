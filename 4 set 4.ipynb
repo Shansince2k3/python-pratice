{
 "cells": [
  {
   "cell_type": "markdown",
   "id": "06aa43d3-00d2-4ccb-8d08-b8dcca9e9313",
   "metadata": {},
   "source": [
    "## Q1. Create a class called \"Person\" with properties for \"name\", \"age\", and \"gender\". Create an object of this class and print out its properties."
   ]
  },
  {
   "cell_type": "code",
   "execution_count": 1,
   "id": "af5581c1-1549-47ee-864f-1305c5b90f69",
   "metadata": {},
   "outputs": [
    {
     "name": "stdout",
     "output_type": "stream",
     "text": [
      "Name: John Doe\n",
      "Age: 30\n",
      "Gender: Male\n"
     ]
    }
   ],
   "source": [
    "#class definition\n",
    "class Person:\n",
    "    # Constructor\n",
    "    def __init__(self, name, age, gender):\n",
    "        self.name = name\n",
    "        self.age = age\n",
    "        self.gender = gender\n",
    "\n",
    "# Creating an object of the Person class\n",
    "person1 = Person(\"John Doe\", 30, \"Male\")\n",
    "\n",
    "# Printing out the properties of the object\n",
    "print(\"Name:\", person1.name)\n",
    "print(\"Age:\", person1.age)\n",
    "print(\"Gender:\", person1.gender)\n"
   ]
  },
  {
   "cell_type": "markdown",
   "id": "108af51d-0576-4e1d-b539-da05da5bf516",
   "metadata": {},
   "source": [
    "## Q2. Write a Python class called \"Rectangle\" with attributes for \"width\" and \"height\". Implement methods to calculate the area and perimeter of the rectangle. Create an instance of this class and use it to print outthe rectangle's area and perimeter."
   ]
  },
  {
   "cell_type": "code",
   "execution_count": 2,
   "id": "dcd53cdf-cf54-4028-be20-530ed914e73e",
   "metadata": {},
   "outputs": [
    {
     "name": "stdout",
     "output_type": "stream",
     "text": [
      "Area: 50\n",
      "Perimeter: 30\n"
     ]
    }
   ],
   "source": [
    "class Rectangle:\n",
    "    def __init__(self, width, height):\n",
    "        self.width = width\n",
    "        self.height = height\n",
    "\n",
    "    def calculate_area(self):\n",
    "        return self.width * self.height\n",
    "\n",
    "    def calculate_perimeter(self):\n",
    "        return 2 * (self.width + self.height)\n",
    "\n",
    "\n",
    "rectangle1 = Rectangle(5, 10)\n",
    "area = rectangle1.calculate_area()\n",
    "perimeter = rectangle1.calculate_perimeter()\n",
    "\n",
    "print(\"Area:\", area)\n",
    "print(\"Perimeter:\", perimeter)\n"
   ]
  },
  {
   "cell_type": "markdown",
   "id": "c25093ea-44c4-4abd-9719-f1510e056ba7",
   "metadata": {},
   "source": [
    "## Q3. Write a Python class called \"BankAccount\" with attributes for \"balance\" and \"interest_rate\". Implement methods to deposit and withdraw money from the account, as well as to calculate the interest earned on the balance based on the interest rate. Create an instance of this class and use it to test out the implemented methods for deposit, withdrawal, and interest calculation."
   ]
  },
  {
   "cell_type": "code",
   "execution_count": 3,
   "id": "495da3c4-3438-4b33-9a06-3aebde6db138",
   "metadata": {},
   "outputs": [],
   "source": [
    "class BankAccount:\n",
    "    def __init__(self, balance=0, interest_rate=0.01):\n",
    "        self.balance = balance\n",
    "        self.interest_rate = interest_rate\n",
    "\n",
    "    def deposit(self, amount):\n",
    "        self.balance += amount\n",
    "        print(f\"Deposited ${amount}. New balance: ${self.balance}\")\n",
    "\n",
    "    def withdraw(self, amount):\n",
    "        if amount <= self.balance:\n",
    "            self.balance -= amount\n",
    "            print(f\"Withdrew ${amount}. New balance: ${self.balance}\")\n",
    "        else:\n",
    "            print(\"Insufficient funds!\")\n",
    "\n",
    "    def calculate_interest(self):\n",
    "        interest_earned = self.balance * self.interest_rate\n",
    "        return interest_earned\n"
   ]
  },
  {
   "cell_type": "code",
   "execution_count": 4,
   "id": "aec3ce8e-35a6-4d58-91df-d568e8d214dd",
   "metadata": {},
   "outputs": [
    {
     "name": "stdout",
     "output_type": "stream",
     "text": [
      "Deposited $500. New balance: $1500\n",
      "Withdrew $200. New balance: $1300\n",
      "Insufficient funds!\n",
      "Interest Earned: 65.0\n"
     ]
    }
   ],
   "source": [
    "# Creating an instance of the BankAccount class\n",
    "account1 = BankAccount(balance=1000, interest_rate=0.05)\n",
    "\n",
    "# Testing out the methods\n",
    "account1.deposit(500)\n",
    "account1.withdraw(200)\n",
    "account1.withdraw(1500)  # Testing for insufficient funds\n",
    "interest_earned = account1.calculate_interest()\n",
    "\n",
    "print(\"Interest Earned:\", interest_earned)"
   ]
  },
  {
   "cell_type": "markdown",
   "id": "f9b3ab1b-c25e-49d1-904d-d49d81a88eeb",
   "metadata": {},
   "source": [
    "## Q4. Write a Python class called \"Animal\" with attributes for \"name\" and \"species\". Create a subclass of \"Animal\" called \"Dog\" with additional attributes for \"breed\" and \"owner\". Implement both classes with appropriate methods and constructors to initialise their properties. Create instances of both classes and use them to print out the various properties of the animals and dogs, such as their names, species, breeds, and owners."
   ]
  },
  {
   "cell_type": "code",
   "execution_count": 5,
   "id": "af01d1ca-2db6-4a15-8312-a71a567fd699",
   "metadata": {},
   "outputs": [
    {
     "name": "stdout",
     "output_type": "stream",
     "text": [
      "Animal Information:\n",
      "Name: Tom\n",
      "Species: Cat\n",
      "Tom makes a meow sound.\n",
      "\n",
      "Dog Information:\n",
      "Name: Buddy\n",
      "Species: Dog\n",
      "Breed: Golden Retriever\n",
      "Owner: John\n",
      "Buddy barks.\n"
     ]
    }
   ],
   "source": [
    "class Animal:\n",
    "    def __init__(self, name, species):\n",
    "        self.name = name\n",
    "        self.species = species\n",
    "    def make_sound(self, sound):\n",
    "        print(f\"{self.name} makes a {sound} sound.\")\n",
    "    def print_info(self):\n",
    "        print(f\"Name: {self.name}\")\n",
    "        print(f\"Species: {self.species}\")\n",
    "\n",
    "class Dog(Animal):\n",
    "    def __init__(self, name, species, breed, owner):\n",
    "        super().__init__(name, species)\n",
    "        self.breed = breed\n",
    "        self.owner = owner\n",
    "    def make_sound(self):\n",
    "        print(f\"{self.name} barks.\")\n",
    "    def print_info(self):\n",
    "        super().print_info()\n",
    "        print(f\"Breed: {self.breed}\")\n",
    "        print(f\"Owner: {self.owner}\")\n",
    "\n",
    "\n",
    "# Creating instances of the classes\n",
    "animal1 = Animal(\"Tom\", \"Cat\")\n",
    "dog1 = Dog(\"Buddy\", \"Dog\", \"Golden Retriever\", \"John\")\n",
    "\n",
    "# Printing information about the animals and dogs\n",
    "print(\"Animal Information:\")\n",
    "animal1.print_info()\n",
    "animal1.make_sound(\"meow\")\n",
    "\n",
    "print(\"\\nDog Information:\")\n",
    "dog1.print_info()\n",
    "dog1.make_sound()\n"
   ]
  },
  {
   "cell_type": "markdown",
   "id": "6b2ac86d-26eb-4efc-9c1d-da8e227305ee",
   "metadata": {},
   "source": [
    "## Q5. Create a class called \"Car\" with properties for \"make\", \"model\", and \"year\". Create a subclass of \"Car\" called \"ElectricCar\" with additional properties for \"battery_size\" and \"range\". Create objects of both classes and print out their properties."
   ]
  },
  {
   "cell_type": "code",
   "execution_count": 6,
   "id": "e9b1e16c-6337-430e-ae7a-33537b89b7b5",
   "metadata": {},
   "outputs": [
    {
     "name": "stdout",
     "output_type": "stream",
     "text": [
      "Car Information:\n",
      "Make: Toyota\n",
      "Model: Camry\n",
      "Year: 2022\n",
      "\n",
      "Electric Car Information:\n",
      "Make: Tesla\n",
      "Model: Model S\n",
      "Year: 2023\n",
      "Battery Size: 100 kWh\n",
      "Range: 350 miles\n"
     ]
    }
   ],
   "source": [
    "class Car:\n",
    "    def __init__(self, make, model, year):\n",
    "        self.make = make\n",
    "        self.model = model\n",
    "        self.year = year\n",
    "\n",
    "    def print_info(self):\n",
    "        print(f\"Make: {self.make}\")\n",
    "        print(f\"Model: {self.model}\")\n",
    "        print(f\"Year: {self.year}\")\n",
    "\n",
    "\n",
    "class ElectricCar(Car):\n",
    "    def __init__(self, make, model, year, battery_size, range1):\n",
    "        super().__init__(make, model, year)\n",
    "        self.battery_size = battery_size\n",
    "        self.range = range1\n",
    "\n",
    "    def print_info(self):\n",
    "        super().print_info()\n",
    "        print(f\"Battery Size: {self.battery_size} kWh\")\n",
    "        print(f\"Range: {self.range} miles\")\n",
    "\n",
    "\n",
    "# Creating instances of the classes\n",
    "car1 = Car(\"Toyota\", \"Camry\", 2022)\n",
    "electric_car1 = ElectricCar(\"Tesla\", \"Model S\", 2023, 100, 350)\n",
    "\n",
    "# Printing information about the cars and electric car\n",
    "print(\"Car Information:\")\n",
    "car1.print_info()\n",
    "\n",
    "print(\"\\nElectric Car Information:\")\n",
    "electric_car1.print_info()\n"
   ]
  },
  {
   "cell_type": "markdown",
   "id": "ad89c1af-49fe-4a40-a389-0a524083efa5",
   "metadata": {},
   "source": [
    "## Q6. Create a class called \"Student\" with properties for \"name\" and \"id\". Create a subclass of \"Student\" called \"GraduateStudent\" with additional properties for \"advisor\" and \"research_area\". Create objects of both classes and print out their properties."
   ]
  },
  {
   "cell_type": "code",
   "execution_count": 14,
   "id": "0a302eb3-5da6-41fc-9397-21d2045cde84",
   "metadata": {},
   "outputs": [
    {
     "name": "stdout",
     "output_type": "stream",
     "text": [
      "Student Information:\n",
      "Student Name John Doe\n",
      "Student Id 12345\n",
      "\n",
      "Graduate Studen\n",
      "Student Name Jane Smith\n",
      "Student Id 56789\n",
      "Advisor: Dr. Johnson\n",
      "Research Area: Computer Science\n"
     ]
    }
   ],
   "source": [
    "class Student:\n",
    "    def __init__(self,name,student_id):\n",
    "        self.name = name\n",
    "        self.student_id = student_id\n",
    "    def print_info(self):\n",
    "        print(f\"Student Name {self.name}\")\n",
    "        print(f\"Student Id {self.student_id}\")\n",
    "\n",
    "class GraduateStudent(Student):\n",
    "    def __init__(self, name, student_id, advisor, research_area):\n",
    "        super().__init__(name, student_id)\n",
    "        self.advisor = advisor\n",
    "        self.research_area = research_area\n",
    "\n",
    "    def print_info(self):\n",
    "        super().print_info()\n",
    "        print(f\"Advisor: {self.advisor}\")\n",
    "        print(f\"Research Area: {self.research_area}\")\n",
    "\n",
    "\n",
    "# Creating instances of the classes\n",
    "student1 = Student(\"John Doe\", 12345)\n",
    "grad_student1 = GraduateStudent(\"Jane Smith\", 56789, \"Dr. Johnson\", \"Computer Science\")\n",
    "\n",
    "# Printing information about the students and graduate student\n",
    "print(\"Student Information:\")\n",
    "student1.print_info()\n",
    "\n",
    "print(\"\\nGraduate Studen\")\n",
    "grad_student1.print_info()"
   ]
  },
  {
   "cell_type": "markdown",
   "id": "53b20677-03f7-4ab1-80a9-336369fa67bc",
   "metadata": {},
   "source": [
    "## Q7. Create a class called \"Shape\" with methods to calculate the area and perimeter of the shape. Create subclasses of \"Shape\" for \"Rectangle\", \"Circle\", and \"Triangle\" with their own methods for calculating area and perimeter. Create objects of each class and print out their area and perimeter."
   ]
  },
  {
   "cell_type": "code",
   "execution_count": 16,
   "id": "887c807a-03dc-487d-ba00-b4b542a502df",
   "metadata": {},
   "outputs": [
    {
     "name": "stdout",
     "output_type": "stream",
     "text": [
      "Rectangle:\n",
      "Area: 50\n",
      "Perimeter: 30\n",
      "\n",
      "Circle:\n",
      "Area: 28.274333882308138\n",
      "Perimeter: 18.84955592153876\n",
      "\n",
      "Triangle:\n",
      "Area: 6.0\n",
      "Perimeter: 12\n"
     ]
    }
   ],
   "source": [
    "import math\n",
    "\n",
    "class Shape:\n",
    "    def calculate_area(self):\n",
    "        pass\n",
    "\n",
    "    def calculate_perimeter(self):\n",
    "        pass\n",
    "\n",
    "\n",
    "class Rectangle(Shape):\n",
    "    def __init__(self, length, width):\n",
    "        self.length = length\n",
    "        self.width = width\n",
    "\n",
    "    def calculate_area(self):\n",
    "        return self.length * self.width\n",
    "\n",
    "    def calculate_perimeter(self):\n",
    "        return 2 * (self.length + self.width)\n",
    "\n",
    "\n",
    "class Circle(Shape):\n",
    "    def __init__(self, radius):\n",
    "        self.radius = radius\n",
    "\n",
    "    def calculate_area(self):\n",
    "        return math.pi * self.radius ** 2\n",
    "\n",
    "    def calculate_perimeter(self):\n",
    "        return 2 * math.pi * self.radius\n",
    "\n",
    "\n",
    "class Triangle(Shape):\n",
    "    def __init__(self, side1, side2, side3):\n",
    "        self.side1 = side1\n",
    "        self.side2 = side2\n",
    "        self.side3 = side3\n",
    "\n",
    "    def calculate_area(self):\n",
    "        # Using Heron's formula to calculate area\n",
    "        s = (self.side1 + self.side2 + self.side3) / 2\n",
    "        return math.sqrt(s * (s - self.side1) * (s - self.side2) * (s - self.side3))\n",
    "\n",
    "    def calculate_perimeter(self):\n",
    "        return self.side1 + self.side2 + self.side3\n",
    "\n",
    "\n",
    "# Creating instances of the classes\n",
    "rectangle1 = Rectangle(5, 10)\n",
    "circle1 = Circle(3)\n",
    "triangle1 = Triangle(3, 4, 5)\n",
    "\n",
    "# Printing area and perimeter of the shapes\n",
    "print(\"Rectangle:\")\n",
    "print(\"Area:\", rectangle1.calculate_area())\n",
    "print(\"Perimeter:\", rectangle1.calculate_perimeter())\n",
    "\n",
    "print(\"\\nCircle:\")\n",
    "print(\"Area:\", circle1.calculate_area())\n",
    "print(\"Perimeter:\", circle1.calculate_perimeter())\n",
    "\n",
    "print(\"\\nTriangle:\")\n",
    "print(\"Area:\", triangle1.calculate_area())\n",
    "print(\"Perimeter:\", triangle1.calculate_perimeter())\n"
   ]
  },
  {
   "cell_type": "markdown",
   "id": "41695b9e-b91b-427f-8076-664ffae323f8",
   "metadata": {},
   "source": [
    "## Q8. Create a class called \"Employee\" with properties for \"name\", \"id\", and \"salary\". Add methods to give the employee a raise and to calculate their annual salary. Create objects of this class and test out the methods."
   ]
  },
  {
   "cell_type": "code",
   "execution_count": 23,
   "id": "60bd274c-1b1e-4d15-b034-c629e85112df",
   "metadata": {},
   "outputs": [
    {
     "name": "stdout",
     "output_type": "stream",
     "text": [
      "Employee Information:\n",
      "Name: John Doe\n",
      "Employee ID: 12345\n",
      "Salary: 50000\n",
      "John Doe received a raise of $5000. New salary: $55000\n",
      "Annual Salary: 660000 \n",
      "\n",
      "Employee Information:\n",
      "Name: John Doe\n",
      "Employee ID: 12345\n",
      "Salary: 55000\n",
      "Jane Smith received a raise of $7000. New salary: $67000\n",
      "Annual Salary: 804000\n"
     ]
    }
   ],
   "source": [
    "class Employee:\n",
    "    def __init__(self, name, emp_id, salary):\n",
    "        self.name = name\n",
    "        self.emp_id = emp_id\n",
    "        self.salary = salary\n",
    "\n",
    "    def give_raise(self, amount):\n",
    "        self.salary += amount\n",
    "        print(f\"{self.name} received a raise of ${amount}. New salary: ${self.salary}\")\n",
    "\n",
    "    def calculate_annual_salary(self):\n",
    "        return self.salary * 12\n",
    "    \n",
    "    def employee_info(self):\n",
    "        print(\"Employee Information:\")\n",
    "        print(\"Name:\", employee1.name)\n",
    "        print(\"Employee ID:\", employee1.emp_id)\n",
    "        print(\"Salary:\", employee1.salary,)\n",
    "\n",
    "# Creating instances of the Employee class\n",
    "employee1 = Employee(\"John Doe\", 12345, 50000)\n",
    "employee2 = Employee(\"Jane Smith\", 67890, 60000)\n",
    "\n",
    "employee1.employee_info()\n",
    "employee1.give_raise(5000)\n",
    "print(\"Annual Salary:\", employee1.calculate_annual_salary(),\"\\n\")\n",
    "\n",
    "employee2.employee_info()\n",
    "employee2.give_raise(7000)\n",
    "print(\"Annual Salary:\", employee2.calculate_annual_salary())\n"
   ]
  },
  {
   "cell_type": "markdown",
   "id": "3ef78890-641d-4837-a28e-9bb5da66ad5f",
   "metadata": {},
   "source": [
    "## Q9. Create a class called \"Book\" with properties for \"title\", \"author\", and \"publisher\". Create a subclass of \"Book\" called \"Ebook\" with additional properties for \"file_format\" and \"file_size\". Create objects of bothclasses and print out their properties."
   ]
  },
  {
   "cell_type": "code",
   "execution_count": 24,
   "id": "0044feec-0b09-4213-b195-0a618484db9a",
   "metadata": {},
   "outputs": [
    {
     "name": "stdout",
     "output_type": "stream",
     "text": [
      "Book Information:\n",
      "Title: The Great Gatsby\n",
      "Author: F. Scott Fitzgerald\n",
      "Publisher: Scribner\n",
      "\n",
      "Ebook Information:\n",
      "Title: Python Crash Course\n",
      "Author: Eric Matthes\n",
      "Publisher: No Starch Press\n",
      "File Format: PDF\n",
      "File Size: 5 MB\n"
     ]
    }
   ],
   "source": [
    "class Book:\n",
    "    def __init__(self, title, author, publisher):\n",
    "        self.title = title\n",
    "        self.author = author\n",
    "        self.publisher = publisher\n",
    "    def print_info(self):\n",
    "        print(f\"Title: {self.title}\")\n",
    "        print(f\"Author: {self.author}\")\n",
    "        print(f\"Publisher: {self.publisher}\")\n",
    "\n",
    "class Ebook(Book):\n",
    "    def __init__(self, title, author, publisher, file_format, file_size):\n",
    "        super().__init__(title, author, publisher)\n",
    "        self.file_format = file_format\n",
    "        self.file_size = file_size\n",
    "    def print_info(self):\n",
    "        super().print_info()\n",
    "        print(f\"File Format: {self.file_format}\")\n",
    "        print(f\"File Size: {self.file_size} MB\")\n",
    "\n",
    "\n",
    "# Creating instances of the classes\n",
    "book1 = Book(\"The Great Gatsby\", \"F. Scott Fitzgerald\", \"Scribner\")\n",
    "ebook1 = Ebook(\"Python Crash Course\", \"Eric Matthes\", \"No Starch Press\", \"PDF\", 5)\n",
    "\n",
    "# Printing information about the book and ebook\n",
    "print(\"Book Information:\")\n",
    "book1.print_info()\n",
    "\n",
    "print(\"\\nEbook Information:\")\n",
    "ebook1.print_info()"
   ]
  },
  {
   "cell_type": "markdown",
   "id": "a89827e2-354e-4fcc-80f3-823bbeb02332",
   "metadata": {},
   "source": [
    "## Q10. Create a class called \"Bank\" with properties for \"name\" and \"accounts\". Add methods to create new accounts, deposit and withdraw money from accounts, and to calculate the total balance of all accounts. Create an object of this class and test out the methods."
   ]
  },
  {
   "cell_type": "code",
   "execution_count": 27,
   "id": "01c22f57-5750-4468-ab8d-b8426df162b0",
   "metadata": {},
   "outputs": [
    {
     "name": "stdout",
     "output_type": "stream",
     "text": [
      "Account 12345 created with initial balance: $1000\n",
      "Deposited $500 into account 12345. New balance: $1500\n",
      "Withdrew $200 from account 12345. New balance: $1300\n",
      "\n",
      "\n",
      "Account 56789 created with initial balance: $2500\n",
      "Deposited $1000 into account 56789. New balance: $3500\n",
      "Withdrew $300 from account 56789. New balance: $3200\n",
      "\n",
      "Total Balance of all accounts: 4500\n"
     ]
    }
   ],
   "source": [
    "class Bank:\n",
    "    def __init__(self, name):\n",
    "        self.name = name\n",
    "        self.accounts = {}\n",
    "\n",
    "    def create_account(self, account_number, initial_balance=0):\n",
    "        if account_number not in self.accounts:\n",
    "            self.accounts[account_number] = initial_balance\n",
    "            print(f\"Account {account_number} created with initial balance: ${initial_balance}\")\n",
    "        else:\n",
    "            print(f\"Account {account_number} already exists!\")\n",
    "\n",
    "    def deposit(self, account_number, amount):\n",
    "        if account_number in self.accounts:\n",
    "            self.accounts[account_number] += amount\n",
    "            print(f\"Deposited ${amount} into account {account_number}. New balance: ${self.accounts[account_number]}\")\n",
    "        else:\n",
    "            print(f\"Account {account_number} does not exist!\")\n",
    "\n",
    "    def withdraw(self, account_number, amount):\n",
    "        if account_number in self.accounts:\n",
    "            if self.accounts[account_number] >= amount:\n",
    "                self.accounts[account_number] -= amount\n",
    "                print(f\"Withdrew ${amount} from account {account_number}. New balance: ${self.accounts[account_number]}\")\n",
    "            else:\n",
    "                print(f\"Insufficient funds in account {account_number}!\")\n",
    "        else:\n",
    "            print(f\"Account {account_number} does not exist!\")\n",
    "\n",
    "    def total_balance(self):\n",
    "        return sum(self.accounts.values())\n",
    "\n",
    "\n",
    "# Creating an instance of the Bank class\n",
    "bank1 = Bank(\"MyBank\")\n",
    "\n",
    "# Testing out the methods\n",
    "bank1.create_account(\"12345\", 1000)\n",
    "bank1.deposit(\"12345\", 500)\n",
    "bank1.withdraw(\"12345\", 200)\n",
    "\n",
    "print(\"\\n\")\n",
    "bank1.create_account(\"56789\", 2500)\n",
    "bank1.deposit(\"56789\", 1000)\n",
    "bank1.withdraw(\"56789\", 300)\n",
    "\n",
    "print(\"\\nTotal Balance of all accounts:\", bank1.total_balance())\n"
   ]
  },
  {
   "cell_type": "code",
   "execution_count": null,
   "id": "ca9a802f-5aa9-459f-9689-ac9a404f66cd",
   "metadata": {},
   "outputs": [],
   "source": []
  }
 ],
 "metadata": {
  "kernelspec": {
   "display_name": "Python 3 (ipykernel)",
   "language": "python",
   "name": "python3"
  },
  "language_info": {
   "codemirror_mode": {
    "name": "ipython",
    "version": 3
   },
   "file_extension": ".py",
   "mimetype": "text/x-python",
   "name": "python",
   "nbconvert_exporter": "python",
   "pygments_lexer": "ipython3",
   "version": "3.10.6"
  }
 },
 "nbformat": 4,
 "nbformat_minor": 5
}
